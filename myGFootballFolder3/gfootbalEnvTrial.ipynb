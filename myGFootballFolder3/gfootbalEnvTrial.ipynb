{
 "metadata": {
  "language_info": {
   "codemirror_mode": {
    "name": "ipython",
    "version": 3
   },
   "file_extension": ".py",
   "mimetype": "text/x-python",
   "name": "python",
   "nbconvert_exporter": "python",
   "pygments_lexer": "ipython3",
   "version": "3.6.12-final"
  },
  "orig_nbformat": 2,
  "kernelspec": {
   "name": "Python 3.6.12 64-bit ('grf2': conda)",
   "display_name": "Python 3.6.12 64-bit ('grf2': conda)",
   "metadata": {
    "interpreter": {
     "hash": "4afd529ab3fd4dd51e5aab43c462bd74b19eb8c47588669425e412448849a024"
    }
   }
  }
 },
 "nbformat": 4,
 "nbformat_minor": 2,
 "cells": [
  {
   "cell_type": "code",
   "execution_count": 5,
   "metadata": {},
   "outputs": [],
   "source": [
    "import gfootball.env as env"
   ]
  },
  {
   "cell_type": "code",
   "execution_count": 6,
   "metadata": {},
   "outputs": [],
   "source": [
    "global_enviornment_name = \"11_vs_11_stochastic\""
   ]
  },
  {
   "cell_type": "code",
   "execution_count": 3,
   "metadata": {
    "tags": []
   },
   "outputs": [],
   "source": [
    "# env1 = env.create_environment(env_name=global_enviornment_name, render=True, representation='simple115')\n",
    "# timestep_limit = 10\n",
    "# obs_space = env1.observation_space\n",
    "# print(obs_space)\n",
    "# action_space = env1.action_space\n",
    "# print(action_space)"
   ]
  },
  {
   "cell_type": "code",
   "execution_count": 27,
   "metadata": {
    "tags": []
   },
   "outputs": [],
   "source": [
    "import gfootball.env as football_env\n",
    "env = football_env.create_environment(env_name=global_enviornment_name, stacked=True, logdir='/tmp/football', write_goal_dumps=False, representation=\"extracted\", write_full_episode_dumps=False, render=True)\n",
    "env.reset()\n",
    "steps = 0\n",
    "while True:\n",
    "  k = env.action_space.sample() \n",
    "  obs, rew, done, info = env.step(k)\n",
    "  steps += 1\n",
    "  # if steps % 100 == 0:\n",
    "    # print(\"Step %d Reward: %f\" % (steps, rew))\n",
    "\n",
    "  if done:\n",
    "    env.close()\n",
    "    break\n",
    "\n",
    "# print(\"Steps: %d Reward: %.2f\" % (steps, rew))"
   ]
  },
  {
   "cell_type": "code",
   "execution_count": 28,
   "metadata": {},
   "outputs": [
    {
     "output_type": "stream",
     "name": "stdout",
     "text": [
      "1\n"
     ]
    }
   ],
   "source": [
    "print(1)"
   ]
  },
  {
   "cell_type": "code",
   "execution_count": 5,
   "metadata": {},
   "outputs": [
    {
     "output_type": "execute_result",
     "data": {
      "text/plain": "18"
     },
     "metadata": {},
     "execution_count": 5
    }
   ],
   "source": [
    "k"
   ]
  },
  {
   "cell_type": "code",
   "execution_count": 37,
   "metadata": {},
   "outputs": [
    {
     "output_type": "execute_result",
     "data": {
      "text/plain": "int"
     },
     "metadata": {},
     "execution_count": 37
    }
   ],
   "source": [
    "type(k)"
   ]
  },
  {
   "cell_type": "code",
   "execution_count": 6,
   "metadata": {},
   "outputs": [
    {
     "output_type": "execute_result",
     "data": {
      "text/plain": "(72, 96, 16)"
     },
     "metadata": {},
     "execution_count": 6
    }
   ],
   "source": [
    "obs.shape"
   ]
  },
  {
   "cell_type": "code",
   "execution_count": 7,
   "metadata": {},
   "outputs": [
    {
     "output_type": "execute_result",
     "data": {
      "text/plain": "0.0"
     },
     "metadata": {},
     "execution_count": 7
    }
   ],
   "source": [
    "rew"
   ]
  },
  {
   "cell_type": "code",
   "execution_count": 8,
   "metadata": {},
   "outputs": [
    {
     "output_type": "execute_result",
     "data": {
      "text/plain": "{&#39;score_reward&#39;: 0}"
     },
     "metadata": {},
     "execution_count": 8
    }
   ],
   "source": [
    "info"
   ]
  },
  {
   "cell_type": "code",
   "execution_count": 9,
   "metadata": {},
   "outputs": [
    {
     "output_type": "execute_result",
     "data": {
      "text/plain": "True"
     },
     "metadata": {},
     "execution_count": 9
    }
   ],
   "source": [
    "done"
   ]
  },
  {
   "cell_type": "code",
   "execution_count": 5,
   "metadata": {},
   "outputs": [],
   "source": [
    "import torch\n",
    "import torch.nn as nn"
   ]
  },
  {
   "cell_type": "code",
   "execution_count": 9,
   "metadata": {
    "tags": []
   },
   "outputs": [],
   "source": [
    "class Net(nn.Module):   \n",
    "    def __init__(self):\n",
    "        super(Net, self).__init__()\n",
    "        self.leakyRelu = nn.LeakyReLU(negative_slope = 1, inplace=True)\n",
    "\n",
    "        self.cnn_layers = nn.Sequential(\n",
    "            # Defining a 2D convolution layer\n",
    "            nn.Conv2d(16, 4, kernel_size=5),\n",
    "            self.leakyRelu,\n",
    "            # Defining another 2D convolution layer\n",
    "            nn.Conv2d(4, 1, kernel_size=5),\n",
    "            self.leakyRelu,\n",
    "            nn.Flatten()\n",
    "        )\n",
    "        # self.temp = len(self.cnn_layers)\n",
    "        self.linear_layers = nn.Sequential(\n",
    "            nn.Linear(5632, 19),\n",
    "            nn.Softmax()\n",
    "        )\n",
    "\n",
    "    # Defining the forward pass    \n",
    "    def forward(self, x):\n",
    "        x = self.cnn_layers(x.float())\n",
    "        # x = x.view(x.size(0), -1)\n",
    "        # print(x.shape)\n",
    "        x = self.linear_layers(x)\n",
    "        return x\n",
    "\n",
    "net = Net()\n",
    "# print(net)"
   ]
  },
  {
   "cell_type": "code",
   "execution_count": 16,
   "metadata": {
    "tags": []
   },
   "outputs": [],
   "source": [
    "env.reset()\n",
    "obs, rew, done, info = env.step(env.action_space.sample())\n",
    "mobs = torch.from_numpy(obs.transpose(2,1,0))\n",
    "act = torch.argmax(net(mobs.unsqueeze(0)))\n",
    "nact = act.item()\n",
    "# print(act)\n",
    "# print(type(nact))\n",
    "_ = env.step(nact)"
   ]
  },
  {
   "cell_type": "code",
   "execution_count": 33,
   "metadata": {
    "tags": []
   },
   "outputs": [
    {
     "output_type": "stream",
     "name": "stdout",
     "text": "tensor([[0.2592, 0.0296, 0.0112, 0.1530, 0.0061, 0.0402, 0.0044, 0.0097, 0.0044,\n         0.0399, 0.0136, 0.3531, 0.0145, 0.0273, 0.0009, 0.0127, 0.0052, 0.0128,\n         0.0024]], grad_fn=&lt;SoftmaxBackward&gt;)\n"
    }
   ],
   "source": [
    "print(act)"
   ]
  },
  {
   "cell_type": "code",
   "execution_count": 25,
   "metadata": {},
   "outputs": [
    {
     "output_type": "stream",
     "name": "stdout",
     "text": [
      "0 11\n"
     ]
    }
   ],
   "source": [
    "net1 = Net()\n",
    "net2 = Net()\n",
    "\n",
    "act1 = torch.argmax(net1(mobs.unsqueeze(0)))\n",
    "nact1 = act1.item()\n",
    "ac2t = torch.argmax(net2(mobs.unsqueeze(0)))\n",
    "nact2 = ac2t.item()\n",
    "\n",
    "print(nact1,nact2)\n",
    "\n"
   ]
  },
  {
   "cell_type": "code",
   "execution_count": 26,
   "metadata": {},
   "outputs": [
    {
     "output_type": "stream",
     "name": "stdout",
     "text": [
      "torch.Size([108732])\n<generator object Module.parameters at 0x7fbf16828c50>\n15\n"
     ]
    }
   ],
   "source": [
    "newVec = nn.utils.parameters_to_vector(net2.parameters()) + nn.utils.parameters_to_vector(net1.parameters())\n",
    "print(newVec.shape)\n",
    "# net3 = Net()\n",
    "nn.utils.vector_to_parameters(newVec, net2.parameters())\n",
    "print(net2.parameters())\n",
    "act3 = torch.argmax(net2(mobs.unsqueeze(0)))\n",
    "nact3 = act3.item()\n",
    "print(nact3)"
   ]
  },
  {
   "cell_type": "code",
   "execution_count": 11,
   "metadata": {},
   "outputs": [
    {
     "output_type": "error",
     "ename": "NameError",
     "evalue": "name 'torch' is not defined",
     "traceback": [
      "\u001b[0;31m---------------------------------------------------------------------------\u001b[0m",
      "\u001b[0;31mNameError\u001b[0m                                 Traceback (most recent call last)",
      "\u001b[0;32m<ipython-input-11-c73cf3d0d7a6>\u001b[0m in \u001b[0;36m<module>\u001b[0;34m\u001b[0m\n\u001b[1;32m      6\u001b[0m \u001b[0mnet1\u001b[0m \u001b[0;34m=\u001b[0m \u001b[0mNet\u001b[0m\u001b[0;34m(\u001b[0m\u001b[0;34m)\u001b[0m \u001b[0;31m# temporary network. This will eventually be passed to the function named model\u001b[0m\u001b[0;34m\u001b[0m\u001b[0;34m\u001b[0m\u001b[0m\n\u001b[1;32m      7\u001b[0m \u001b[0;34m\u001b[0m\u001b[0m\n\u001b[0;32m----> 8\u001b[0;31m \u001b[0mepisode_reward\u001b[0m \u001b[0;34m=\u001b[0m \u001b[0mmodel_func\u001b[0m\u001b[0;34m(\u001b[0m\u001b[0mnet1\u001b[0m\u001b[0;34m,\u001b[0m\u001b[0mnumEpisodes\u001b[0m\u001b[0;34m=\u001b[0m\u001b[0mnumEpisodes\u001b[0m\u001b[0;34m,\u001b[0m\u001b[0mglobal_environment_name\u001b[0m\u001b[0;34m=\u001b[0m\u001b[0mglobal_environment_name\u001b[0m\u001b[0;34m)\u001b[0m\u001b[0;34m\u001b[0m\u001b[0;34m\u001b[0m\u001b[0m\n\u001b[0m\u001b[1;32m      9\u001b[0m \u001b[0mprint\u001b[0m\u001b[0;34m(\u001b[0m\u001b[0mepisode_reward\u001b[0m\u001b[0;34m)\u001b[0m\u001b[0;34m\u001b[0m\u001b[0;34m\u001b[0m\u001b[0m\n",
      "\u001b[0;32m~/myGFootballFolder3/model.py\u001b[0m in \u001b[0;36mmodel_func\u001b[0;34m(net, numEpisodes, global_environment_name)\u001b[0m\n\u001b[1;32m     22\u001b[0m     \u001b[0msteps\u001b[0m \u001b[0;34m=\u001b[0m \u001b[0;36m1\u001b[0m\u001b[0;34m\u001b[0m\u001b[0;34m\u001b[0m\u001b[0m\n\u001b[1;32m     23\u001b[0m \u001b[0;34m\u001b[0m\u001b[0m\n\u001b[0;32m---> 24\u001b[0;31m     \u001b[0mobservations\u001b[0m \u001b[0;34m=\u001b[0m \u001b[0mnp\u001b[0m\u001b[0;34m.\u001b[0m\u001b[0marray\u001b[0m\u001b[0;34m(\u001b[0m\u001b[0mobservations\u001b[0m\u001b[0;34m)\u001b[0m\u001b[0;34m\u001b[0m\u001b[0;34m\u001b[0m\u001b[0m\n\u001b[0m\u001b[1;32m     25\u001b[0m     \u001b[0mactions\u001b[0m \u001b[0;34m=\u001b[0m \u001b[0mtorch\u001b[0m\u001b[0;34m.\u001b[0m\u001b[0margmax\u001b[0m\u001b[0;34m(\u001b[0m\u001b[0mnet\u001b[0m\u001b[0;34m(\u001b[0m\u001b[0mtorch\u001b[0m\u001b[0;34m.\u001b[0m\u001b[0mfrom_numpy\u001b[0m\u001b[0;34m(\u001b[0m\u001b[0mobservations\u001b[0m\u001b[0;34m)\u001b[0m\u001b[0;34m)\u001b[0m\u001b[0;34m)\u001b[0m\u001b[0;34m\u001b[0m\u001b[0;34m\u001b[0m\u001b[0m\n\u001b[1;32m     26\u001b[0m \u001b[0;34m\u001b[0m\u001b[0m\n",
      "\u001b[0;31mNameError\u001b[0m: name 'torch' is not defined"
     ]
    }
   ],
   "source": [
    "from model import model_func\n",
    "from network import Net \n",
    "\n",
    "global_environment_name = \"11_vs_11_stochastic\" ## select the scenario you want to run\n",
    "numEpisodes = 1 # number of episodes to run with one network\n",
    "net1 = Net() # temporary network. This will eventually be passed to the function named model\n",
    "\n",
    "episode_reward = model_func(net1,numEpisodes=numEpisodes,global_environment_name=global_environment_name)\n",
    "print(episode_reward)"
   ]
  },
  {
   "cell_type": "code",
   "execution_count": null,
   "metadata": {},
   "outputs": [],
   "source": []
  }
 ]
}