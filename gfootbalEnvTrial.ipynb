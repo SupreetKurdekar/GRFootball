{
 "metadata": {
  "language_info": {
   "codemirror_mode": {
    "name": "ipython",
    "version": 3
   },
   "file_extension": ".py",
   "mimetype": "text/x-python",
   "name": "python",
   "nbconvert_exporter": "python",
   "pygments_lexer": "ipython3",
   "version": "3.6.12-final"
  },
  "orig_nbformat": 2,
  "kernelspec": {
   "name": "Python 3.6.12 64-bit ('grf2': conda)",
   "display_name": "Python 3.6.12 64-bit ('grf2': conda)",
   "metadata": {
    "interpreter": {
     "hash": "4afd529ab3fd4dd51e5aab43c462bd74b19eb8c47588669425e412448849a024"
    }
   }
  }
 },
 "nbformat": 4,
 "nbformat_minor": 2,
 "cells": [
  {
   "cell_type": "code",
   "execution_count": 1,
   "metadata": {},
   "outputs": [],
   "source": [
    "import gfootball.env as env"
   ]
  },
  {
   "cell_type": "code",
   "execution_count": 2,
   "metadata": {},
   "outputs": [],
   "source": [
    "global_enviornment_name = \"11_vs_11_stochastic\""
   ]
  },
  {
   "cell_type": "code",
   "execution_count": 3,
   "metadata": {
    "tags": []
   },
   "outputs": [],
   "source": [
    "# env1 = env.create_environment(env_name=global_enviornment_name, render=True, representation='simple115')\n",
    "# timestep_limit = 10\n",
    "# obs_space = env1.observation_space\n",
    "# print(obs_space)\n",
    "# action_space = env1.action_space\n",
    "# print(action_space)"
   ]
  },
  {
   "cell_type": "code",
   "execution_count": 4,
   "metadata": {
    "tags": []
   },
   "outputs": [
    {
     "output_type": "stream",
     "name": "stdout",
     "text": "Step 100 Reward: 0.000000\nStep 200 Reward: 0.000000\nStep 300 Reward: 0.000000\nStep 400 Reward: 0.000000\nStep 500 Reward: 0.000000\nStep 600 Reward: 0.000000\nStep 700 Reward: 0.000000\nStep 800 Reward: 0.000000\nStep 900 Reward: 0.000000\nStep 1000 Reward: 0.000000\nStep 1100 Reward: 0.000000\nStep 1200 Reward: 0.000000\nStep 1300 Reward: 0.000000\nStep 1400 Reward: 0.000000\nStep 1500 Reward: 0.000000\nStep 1600 Reward: 0.000000\nStep 1700 Reward: 0.000000\nStep 1800 Reward: 0.000000\nStep 1900 Reward: 0.000000\nStep 2000 Reward: 0.000000\nStep 2100 Reward: 0.000000\nStep 2200 Reward: 0.000000\nStep 2300 Reward: 0.000000\nStep 2400 Reward: 0.000000\nStep 2500 Reward: 0.000000\nStep 2600 Reward: 0.000000\nStep 2700 Reward: 0.000000\nStep 2800 Reward: 0.000000\nStep 2900 Reward: 0.000000\nStep 3000 Reward: 0.000000\nSteps: 3001 Reward: 0.00\n"
    }
   ],
   "source": [
    "import gfootball.env as football_env\n",
    "env = football_env.create_environment(env_name=global_enviornment_name, stacked=True, logdir='/tmp/football', write_goal_dumps=False, representation=\"extracted\", write_full_episode_dumps=False, render=False)\n",
    "env.reset()\n",
    "steps = 0\n",
    "while True:\n",
    "  k = env.action_space.sample() \n",
    "  obs, rew, done, info = env.step(k)\n",
    "  steps += 1\n",
    "  if steps % 100 == 0:\n",
    "    print(\"Step %d Reward: %f\" % (steps, rew))\n",
    "\n",
    "  if done:\n",
    "    break\n",
    "\n",
    "print(\"Steps: %d Reward: %.2f\" % (steps, rew))"
   ]
  },
  {
   "cell_type": "code",
   "execution_count": 5,
   "metadata": {},
   "outputs": [
    {
     "output_type": "execute_result",
     "data": {
      "text/plain": "18"
     },
     "metadata": {},
     "execution_count": 5
    }
   ],
   "source": [
    "k"
   ]
  },
  {
   "cell_type": "code",
   "execution_count": 37,
   "metadata": {},
   "outputs": [
    {
     "output_type": "execute_result",
     "data": {
      "text/plain": "int"
     },
     "metadata": {},
     "execution_count": 37
    }
   ],
   "source": [
    "type(k)"
   ]
  },
  {
   "cell_type": "code",
   "execution_count": 6,
   "metadata": {},
   "outputs": [
    {
     "output_type": "execute_result",
     "data": {
      "text/plain": "(72, 96, 16)"
     },
     "metadata": {},
     "execution_count": 6
    }
   ],
   "source": [
    "obs.shape"
   ]
  },
  {
   "cell_type": "code",
   "execution_count": 7,
   "metadata": {},
   "outputs": [
    {
     "output_type": "execute_result",
     "data": {
      "text/plain": "0.0"
     },
     "metadata": {},
     "execution_count": 7
    }
   ],
   "source": [
    "rew"
   ]
  },
  {
   "cell_type": "code",
   "execution_count": 8,
   "metadata": {},
   "outputs": [
    {
     "output_type": "execute_result",
     "data": {
      "text/plain": "{&#39;score_reward&#39;: 0}"
     },
     "metadata": {},
     "execution_count": 8
    }
   ],
   "source": [
    "info"
   ]
  },
  {
   "cell_type": "code",
   "execution_count": 9,
   "metadata": {},
   "outputs": [
    {
     "output_type": "execute_result",
     "data": {
      "text/plain": "True"
     },
     "metadata": {},
     "execution_count": 9
    }
   ],
   "source": [
    "done"
   ]
  },
  {
   "cell_type": "code",
   "execution_count": 10,
   "metadata": {},
   "outputs": [],
   "source": [
    "import torch\n",
    "import torch.nn as nn"
   ]
  },
  {
   "cell_type": "code",
   "execution_count": 31,
   "metadata": {
    "tags": []
   },
   "outputs": [
    {
     "output_type": "stream",
     "name": "stdout",
     "text": "Net(\n  (leakyRelu): LeakyReLU(negative_slope=1, inplace=True)\n  (cnn_layers): Sequential(\n    (0): Conv2d(16, 4, kernel_size=(5, 5), stride=(1, 1))\n    (1): LeakyReLU(negative_slope=1, inplace=True)\n    (2): Conv2d(4, 1, kernel_size=(5, 5), stride=(1, 1))\n    (3): LeakyReLU(negative_slope=1, inplace=True)\n    (4): Flatten()\n  )\n  (linear_layers): Sequential(\n    (0): Linear(in_features=5632, out_features=19, bias=True)\n    (1): Softmax(dim=None)\n  )\n)\n"
    }
   ],
   "source": [
    "class Net(nn.Module):   \n",
    "    def __init__(self):\n",
    "        super(Net, self).__init__()\n",
    "        self.leakyRelu = nn.LeakyReLU(negative_slope = 1, inplace=True)\n",
    "\n",
    "        self.cnn_layers = nn.Sequential(\n",
    "            # Defining a 2D convolution layer\n",
    "            nn.Conv2d(16, 4, kernel_size=5),\n",
    "            self.leakyRelu,\n",
    "            # Defining another 2D convolution layer\n",
    "            nn.Conv2d(4, 1, kernel_size=5),\n",
    "            self.leakyRelu,\n",
    "            nn.Flatten()\n",
    "        )\n",
    "        # self.temp = len(self.cnn_layers)\n",
    "        self.linear_layers = nn.Sequential(\n",
    "            nn.Linear(5632, 19),\n",
    "            nn.Softmax()\n",
    "        )\n",
    "\n",
    "    # Defining the forward pass    \n",
    "    def forward(self, x):\n",
    "        x = self.cnn_layers(x.float())\n",
    "        # x = x.view(x.size(0), -1)\n",
    "        print(x.shape)\n",
    "        x = self.linear_layers(x)\n",
    "        return x\n",
    "\n",
    "net = Net()\n",
    "print(net)"
   ]
  },
  {
   "cell_type": "code",
   "execution_count": 40,
   "metadata": {
    "tags": []
   },
   "outputs": [
    {
     "output_type": "stream",
     "name": "stdout",
     "text": "torch.Size([1, 5632])\ntensor(11)\n&lt;class &#39;int&#39;&gt;\n"
    },
    {
     "output_type": "execute_result",
     "data": {
      "text/plain": "(array([[[0, 0, 0, ..., 0, 0, 0],\n         [0, 0, 0, ..., 0, 0, 0],\n         [0, 0, 0, ..., 0, 0, 0],\n         ...,\n         [0, 0, 0, ..., 0, 0, 0],\n         [0, 0, 0, ..., 0, 0, 0],\n         [0, 0, 0, ..., 0, 0, 0]],\n \n        [[0, 0, 0, ..., 0, 0, 0],\n         [0, 0, 0, ..., 0, 0, 0],\n         [0, 0, 0, ..., 0, 0, 0],\n         ...,\n         [0, 0, 0, ..., 0, 0, 0],\n         [0, 0, 0, ..., 0, 0, 0],\n         [0, 0, 0, ..., 0, 0, 0]],\n \n        [[0, 0, 0, ..., 0, 0, 0],\n         [0, 0, 0, ..., 0, 0, 0],\n         [0, 0, 0, ..., 0, 0, 0],\n         ...,\n         [0, 0, 0, ..., 0, 0, 0],\n         [0, 0, 0, ..., 0, 0, 0],\n         [0, 0, 0, ..., 0, 0, 0]],\n \n        ...,\n \n        [[0, 0, 0, ..., 0, 0, 0],\n         [0, 0, 0, ..., 0, 0, 0],\n         [0, 0, 0, ..., 0, 0, 0],\n         ...,\n         [0, 0, 0, ..., 0, 0, 0],\n         [0, 0, 0, ..., 0, 0, 0],\n         [0, 0, 0, ..., 0, 0, 0]],\n \n        [[0, 0, 0, ..., 0, 0, 0],\n         [0, 0, 0, ..., 0, 0, 0],\n         [0, 0, 0, ..., 0, 0, 0],\n         ...,\n         [0, 0, 0, ..., 0, 0, 0],\n         [0, 0, 0, ..., 0, 0, 0],\n         [0, 0, 0, ..., 0, 0, 0]],\n \n        [[0, 0, 0, ..., 0, 0, 0],\n         [0, 0, 0, ..., 0, 0, 0],\n         [0, 0, 0, ..., 0, 0, 0],\n         ...,\n         [0, 0, 0, ..., 0, 0, 0],\n         [0, 0, 0, ..., 0, 0, 0],\n         [0, 0, 0, ..., 0, 0, 0]]], dtype=uint8),\n 0.0,\n False,\n {&#39;score_reward&#39;: 0})"
     },
     "metadata": {},
     "execution_count": 40
    }
   ],
   "source": [
    "env.reset()\n",
    "obs, rew, done, info = env.step(env.action_space.sample())\n",
    "mobs = torch.from_numpy(obs.transpose(2,1,0))\n",
    "act = torch.argmax(net(mobs.unsqueeze(0)))\n",
    "nact = act.item()\n",
    "print(act)\n",
    "print(type(nact))\n",
    "env.step(nact)"
   ]
  },
  {
   "cell_type": "code",
   "execution_count": 33,
   "metadata": {
    "tags": []
   },
   "outputs": [
    {
     "output_type": "stream",
     "name": "stdout",
     "text": "tensor([[0.2592, 0.0296, 0.0112, 0.1530, 0.0061, 0.0402, 0.0044, 0.0097, 0.0044,\n         0.0399, 0.0136, 0.3531, 0.0145, 0.0273, 0.0009, 0.0127, 0.0052, 0.0128,\n         0.0024]], grad_fn=&lt;SoftmaxBackward&gt;)\n"
    }
   ],
   "source": [
    "print(act)"
   ]
  },
  {
   "cell_type": "code",
   "execution_count": null,
   "metadata": {},
   "outputs": [],
   "source": []
  }
 ]
}